{
 "cells": [
  {
   "cell_type": "code",
   "execution_count": 27,
   "metadata": {
    "collapsed": false
   },
   "outputs": [],
   "source": [
    "class MagicSquare:\n",
    "    board = []\n",
    "    used = []\n",
    "    magicSum = 0\n",
    "    order = 0\n",
    "    \n",
    "    def __init__(self, order=3):\n",
    "        if (order < 3):\n",
    "            return False\n",
    "        else:\n",
    "            self.order = order\n",
    "            \n",
    "        for r in xrange(order):\n",
    "            self.board.append([0 for c in xrange(order)])\n",
    "        \n",
    "        for d in xrange(order*order+1):\n",
    "            self.used.append(False)\n",
    "            \n",
    "        self.magicSum = (order*(order**2+1))/2\n",
    "            \n",
    "    \n",
    "    def displayBoard(self):\n",
    "        for r in self.board:\n",
    "            for val in r:\n",
    "                print (\"{:2d}\".format(val)),\n",
    "            print\n",
    "            \n",
    "    def isSolved(self):\n",
    "        sumD1 = sumD2 = 0\n",
    "        \n",
    "        for r in xrange(self.order):\n",
    "            sumR = sumC = 0\n",
    "            \n",
    "            sumD1 += self.board[r][r]\n",
    "            sumD2 += self.board[r][self.order -r-1]\n",
    "            \n",
    "            for c in xrange(self.order):\n",
    "                sumR += self.board[r][c]\n",
    "                sumC += self.board[c][r]\n",
    "            if sumR != self.magicSum or sumC != self.magicSum:\n",
    "                return False\n",
    "            \n",
    "        return sumD1 == self.magicSum and sumD2 == self.magicSum\n",
    "    \n",
    "    def solveUpto(self, step):\n",
    "        for r in range(self.order):\n",
    "            if step == (self.order*(r+1)-1):\n",
    "                return sum(self.board[r]) == self.magicSum\n",
    "        \n",
    "        # 0 6 3*2 + 0\n",
    "        # 1 7 3*2 + 1\n",
    "        # 2 8 3*2 + 2\n",
    "        for r in range(self.order):\n",
    "            if step == (self.order*(self.order-1)+r):\n",
    "                total = 0 \n",
    "                for c in range(self.order):\n",
    "                    total += self.board[c][r]\n",
    "                return total == self.magicSum\n",
    "                    \n",
    "        return True\n",
    "    \n",
    "    def solve(self, step=0):\n",
    "        if step == (self.order**2):\n",
    "            return self.isSolved()\n",
    "        \n",
    "        for num in range (1, self.order**2+1):\n",
    "            if not self.used[num]:\n",
    "                self.used[num] = True\n",
    "                self.board[step/self.order][step%self.order] = num\n",
    "                if self.solveUpto(step) and self.solve(step+1):\n",
    "                    return True\n",
    "                self.board[step/self.order][step%self.order] = 0\n",
    "                self.used[num] = False\n",
    "        return False"
   ]
  },
  {
   "cell_type": "code",
   "execution_count": 28,
   "metadata": {
    "collapsed": false
   },
   "outputs": [
    {
     "name": "stdout",
     "output_type": "stream",
     "text": [
      " 1  2 15 16\n",
      "12 14  3  5\n",
      "13  7 10  4\n",
      " 8 11  6  9\n"
     ]
    }
   ],
   "source": [
    "magicSquare = MagicSquare(4)\n",
    "# print(len(magicSquare.used))\n",
    "# print magicSquare.magicSum\n",
    "magicSquare.solve()\n",
    "magicSquare.displayBoard()"
   ]
  },
  {
   "cell_type": "code",
   "execution_count": 40,
   "metadata": {
    "collapsed": false
   },
   "outputs": [
    {
     "name": "stdout",
     "output_type": "stream",
     "text": [
      "0 0 0 0\n"
     ]
    }
   ],
   "source": [
    "sumD1 = sumD2 = sumR = sumCol = 0\n",
    "print sumD1, sumD2,sumR, sumCol"
   ]
  },
  {
   "cell_type": "code",
   "execution_count": null,
   "metadata": {
    "collapsed": true
   },
   "outputs": [],
   "source": []
  }
 ],
 "metadata": {
  "kernelspec": {
   "display_name": "Python 2",
   "language": "python",
   "name": "python2"
  },
  "language_info": {
   "codemirror_mode": {
    "name": "ipython",
    "version": 2
   },
   "file_extension": ".py",
   "mimetype": "text/x-python",
   "name": "python",
   "nbconvert_exporter": "python",
   "pygments_lexer": "ipython2",
   "version": "2.7.10"
  }
 },
 "nbformat": 4,
 "nbformat_minor": 0
}
