{
 "cells": [
  {
   "cell_type": "code",
   "execution_count": 146,
   "metadata": {
    "collapsed": false
   },
   "outputs": [],
   "source": [
    "class Board:\n",
    "    height = 0  #defines number of levels or rows on a board\n",
    "            #a board with n levels will have 2**n - 1 pegs with each level having 2 ** (n-1) pegs \n",
    "            #a board with n levels will have 2n-1 columns\n",
    "    pegs = {} # True = filled False = empty\n",
    "    path = [] # to solve puzle\n",
    "    move_displacement = [[4,0], [-4,0], [2,2],[-2,-2],[-2,2],[2,-2]]\n",
    "    \n",
    "    def __init__(self, height, skip):\n",
    "        self.height = height\n",
    "        \n",
    "        #for each row # the peg starts at the index equal to row #, increments by 2 for next peg, and ends at the index\n",
    "        # (2*height-1) minus row #\n",
    "        \n",
    "        for row in range (0,height):\n",
    "            peg_y = row\n",
    "            peg_x = row\n",
    "            while (peg_x < 2*height - row):\n",
    "                self.pegs[(peg_x,peg_y)] = True\n",
    "                peg_x += 2\n",
    "        \n",
    "        if skip in self.pegs:\n",
    "            self.pegs[skip] = False\n",
    "        \n",
    "    def moves(self):\n",
    "        m = []\n",
    "        for peg in self.pegs:\n",
    "            if (self.pegs[peg]):\n",
    "                peg_x, peg_y = peg\n",
    "                for md in self.move_displacement:\n",
    "                    md_x, md_y = md\n",
    "                    mid = (peg_x+md_x/2, peg_y+md_y/2)\n",
    "                    end = (peg_x+md_x, peg_y+md_y)\n",
    "                    if mid in self.pegs and self.pegs[mid] and end in self.pegs and not self.pegs[end]:\n",
    "                        m.append([peg, md])\n",
    "        return m\n",
    "    \n",
    "    def makeMove(self, move):\n",
    "        start, move_d = move\n",
    "        start_x, start_y = start\n",
    "        md_x, md_y = move_d\n",
    "        mid = (start_x+md_x/2, start_y+md_y/2)\n",
    "        end = (start_x+md_x, start_y+md_y)\n",
    "        self.pegs[start] = False\n",
    "        self.pegs[mid] = False\n",
    "        self.pegs[end] = True\n",
    "        \n",
    "    def undoMove(self, move):\n",
    "        start, move_d = move\n",
    "        start_x, start_y = start\n",
    "        md_x, md_y = move_d\n",
    "        mid = (start_x+md_x/2, start_y+md_y/2)\n",
    "        end = (start_x+md_x, start_y+md_y)\n",
    "        self.pegs[end] = False\n",
    "        self.pegs[mid] = True\n",
    "        self.pegs[start] = True\n",
    "\n",
    "    def solve(self):\n",
    "        if len(self.path) == len(board.pegs) - 2:\n",
    "            return True\n",
    "        \n",
    "        for m in self.moves():\n",
    "            self.makeMove(m)\n",
    "            self.path.append(m)\n",
    "            if (self.solve()):\n",
    "                return True\n",
    "            self.undoMove(m)\n",
    "            del self.path[-1]\n",
    "        return False"
   ]
  },
  {
   "cell_type": "code",
   "execution_count": 148,
   "metadata": {
    "collapsed": false
   },
   "outputs": [
    {
     "name": "stdout",
     "output_type": "stream",
     "text": [
      "{(0, 0): True, (3, 1): True, (3, 3): True, (7, 1): True, (8, 0): True, (6, 0): True, (4, 2): False, (2, 0): True, (6, 2): True, (2, 2): True, (5, 1): True, (5, 3): True, (1, 1): True, (4, 4): True, (4, 0): True}\n",
      "[[(6, 0), [-2, 2]], [(2, 0), [4, 0]], [(2, 2), [2, -2]], [(0, 0), [2, 2]], [(3, 3), [-2, -2]], [(6, 0), [-4, 0]], [(5, 3), [-2, -2]], [(7, 1), [-2, 2]], [(1, 1), [4, 0]], [(4, 4), [2, -2]], [(6, 2), [-2, -2]], [(2, 0), [4, 0]], [(8, 0), [-4, 0]]]\n"
     ]
    }
   ],
   "source": [
    "board = Board(5,(4,2))\n",
    "# print len(board.pegs)\n",
    "m = board.moves()\n",
    "# for i in range(0,len(m)):\n",
    "#    print m[i]\n",
    "# board.makeMove([(6,0), [-2,2]])\n",
    "# print board.pegs\n",
    "# board.undoMove([(6,0), [-2,2]])\n",
    "# print board.pegs\n",
    "board.solve()\n",
    "print board.pegs\n",
    "print board.path"
   ]
  },
  {
   "cell_type": "code",
   "execution_count": null,
   "metadata": {
    "collapsed": true
   },
   "outputs": [],
   "source": []
  },
  {
   "cell_type": "code",
   "execution_count": null,
   "metadata": {
    "collapsed": true
   },
   "outputs": [],
   "source": []
  },
  {
   "cell_type": "code",
   "execution_count": null,
   "metadata": {
    "collapsed": true
   },
   "outputs": [],
   "source": []
  }
 ],
 "metadata": {
  "kernelspec": {
   "display_name": "Python 2",
   "language": "python",
   "name": "python2"
  },
  "language_info": {
   "codemirror_mode": {
    "name": "ipython",
    "version": 2
   },
   "file_extension": ".py",
   "mimetype": "text/x-python",
   "name": "python",
   "nbconvert_exporter": "python",
   "pygments_lexer": "ipython2",
   "version": "2.7.10"
  }
 },
 "nbformat": 4,
 "nbformat_minor": 0
}
