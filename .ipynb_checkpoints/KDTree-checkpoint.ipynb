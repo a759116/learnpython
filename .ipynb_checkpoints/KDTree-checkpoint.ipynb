{
 "cells": [
  {
   "cell_type": "code",
   "execution_count": 204,
   "metadata": {
    "collapsed": false
   },
   "outputs": [],
   "source": [
    "'''imports'''\n",
    "import sys"
   ]
  },
  {
   "cell_type": "code",
   "execution_count": 205,
   "metadata": {
    "collapsed": false
   },
   "outputs": [],
   "source": [
    "'''global constants'''\n",
    "\n",
    "# orientations\n",
    "VERTICAL = 1\n",
    "HORIZONTAL = 0\n",
    "\n",
    "#max and min integrs\n",
    "MAXINT = sys.maxint\n",
    "MININT = -(MAXINT+1)\n",
    "\n",
    "# X & Y coordinate indexes\n",
    "X_ = 0\n",
    "Y_ = 1"
   ]
  },
  {
   "cell_type": "code",
   "execution_count": 206,
   "metadata": {
    "collapsed": true
   },
   "outputs": [],
   "source": [
    "class Region:\n",
    "    '''initialize region'''\n",
    "    \n",
    "    def __init__(self, xmin, ymin, xmax, ymax):\n",
    "        self.xmin = xmin\n",
    "        self.ymin = ymin\n",
    "        self.xmax = xmax\n",
    "        self.ymax = ymax\n",
    "        return\n",
    "\n",
    "MAXREGION = Region(MININT, MININT, MAXINT, MAXINT)"
   ]
  },
  {
   "cell_type": "code",
   "execution_count": 207,
   "metadata": {
    "collapsed": false
   },
   "outputs": [],
   "source": [
    "class KDNode:\n",
    "    '''initialize KD Node'''\n",
    "    def __init__(self, pt, orientation, region=MAXREGION):\n",
    "        self.point = pt\n",
    "        self.orientation = orientation\n",
    "        self.above = None\n",
    "        self.below = None\n",
    "        self.region = None\n",
    "        return\n",
    "    \n",
    "    def add(self, pt):\n",
    "        if self.point == pt:\n",
    "            return\n",
    "        if self.isBelow(pt):\n",
    "            if self.below:\n",
    "                self.below.add(pt)\n",
    "            else:\n",
    "                self.below = self.createNode(pt)\n",
    "        else:\n",
    "            if self.above:\n",
    "                self.above.add(pt)\n",
    "            else:\n",
    "                self.above = self.createNode(pt)\n",
    "        \n",
    "        return\n",
    "    \n",
    "    def isBelow(self, pt):\n",
    "        if self.orientation:\n",
    "            return pt[X_] <= self.point[X_]\n",
    "        return pt[Y_] < self.point[Y_]\n",
    "    \n",
    "    def createNode(self,pt):\n",
    "        \n",
    "        return KDNode(pt, 1 - self.orientation, region)\n",
    "    "
   ]
  },
  {
   "cell_type": "code",
   "execution_count": 208,
   "metadata": {
    "collapsed": true
   },
   "outputs": [],
   "source": [
    "class KDTree:\n",
    "    '''initialize KD Tree'''\n",
    "    \n",
    "    def __init__(self):\n",
    "        self.root = None\n",
    "    \n",
    "    '''add a node to the tree'''\n",
    "    def add(self, pt):\n",
    "        if self.root:\n",
    "            self.root.add(pt)\n",
    "        else:\n",
    "            self.root = KDNode(pt, VERTICAL)\n",
    "            return\n"
   ]
  },
  {
   "cell_type": "code",
   "execution_count": 209,
   "metadata": {
    "collapsed": false
   },
   "outputs": [
    {
     "name": "stdout",
     "output_type": "stream",
     "text": [
      "empty __main__.KDTree\n",
      "(8, 10) 1 None None <__main__.Region instance at 0x109c34b48>\n"
     ]
    }
   ],
   "source": [
    "'''Test KDTree'''\n",
    "kdTree = KDTree()\n",
    "print 'empty', KDTree\n",
    "pt = (8, 10)\n",
    "kdTree.add(pt)\n",
    "print kdNode.point, kdNode.orientation, kdNode.above, kdNode.below, kdNode.region\n",
    "kdTree.add((8,9))"
   ]
  },
  {
   "cell_type": "code",
   "execution_count": null,
   "metadata": {
    "collapsed": true
   },
   "outputs": [],
   "source": []
  },
  {
   "cell_type": "code",
   "execution_count": null,
   "metadata": {
    "collapsed": true
   },
   "outputs": [],
   "source": []
  }
 ],
 "metadata": {
  "kernelspec": {
   "display_name": "Python 2",
   "language": "python",
   "name": "python2"
  },
  "language_info": {
   "codemirror_mode": {
    "name": "ipython",
    "version": 2
   },
   "file_extension": ".py",
   "mimetype": "text/x-python",
   "name": "python",
   "nbconvert_exporter": "python",
   "pygments_lexer": "ipython2",
   "version": "2.7.10"
  }
 },
 "nbformat": 4,
 "nbformat_minor": 0
}
