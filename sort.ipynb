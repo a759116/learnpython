{
 "cells": [
  {
   "cell_type": "code",
   "execution_count": 56,
   "metadata": {
    "collapsed": false
   },
   "outputs": [],
   "source": [
    "# Insertion Sort\n",
    "def insertionSort(array):\n",
    "    #print len(array)\n",
    "    for i in range (1, len(array)):\n",
    "        insert(array, i, array[i])\n",
    "    # print array\n",
    "    return array"
   ]
  },
  {
   "cell_type": "code",
   "execution_count": 57,
   "metadata": {
    "collapsed": false
   },
   "outputs": [],
   "source": [
    "def insert(array, idx, value):\n",
    "    # print len(array), idx, value\n",
    "    index = idx\n",
    "    while (index > 0 and value < array[index - 1]):\n",
    "        array[index] = array[index-1]\n",
    "        index = index -1\n",
    "    array[index] = value\n",
    "    return"
   ]
  },
  {
   "cell_type": "code",
   "execution_count": 74,
   "metadata": {
    "collapsed": false
   },
   "outputs": [],
   "source": [
    "def mergeSort(array):\n",
    "    # if the length of array is greater than 2, split the array into 2 halves\n",
    "    # print array\n",
    "    \n",
    "    if (len(array) < 2):\n",
    "        return array\n",
    "    \n",
    "    mid = len(array) / 2\n",
    "    left = mergeSort(array[:mid])\n",
    "    right = mergeSort(array[mid:])\n",
    "        \n",
    "    # print 'before merge', left, right\n",
    "    # compare both arrays\n",
    "    # Take an element and compare with elements of the second array as long as the element is greater than \n",
    "    # the elements and not at the end of the second array, append these elements to the new array\n",
    "    \n",
    "    l = 0\n",
    "    r = 0\n",
    "    s = 0\n",
    "    \n",
    "    while (l < len(left) and r < len(right)):\n",
    "        if (left[l] < right[r]):\n",
    "            array[s] = left[l]\n",
    "            s += 1\n",
    "            l += 1\n",
    "        else:\n",
    "            array[s] = right[r]\n",
    "            s += 1\n",
    "            r += 1\n",
    "    while (l < len(left)):\n",
    "        array[s] = left[l]\n",
    "        s += 1\n",
    "        l += 1\n",
    "    \n",
    "    while (r < len(right)):\n",
    "        array[s] = right[r]\n",
    "        s += 1\n",
    "        r += 1\n",
    "    \n",
    "    # print 'after merge', array\n",
    "    \n",
    "    return array"
   ]
  },
  {
   "cell_type": "code",
   "execution_count": 75,
   "metadata": {
    "collapsed": true
   },
   "outputs": [],
   "source": [
    "def testMergeSortSimple():\n",
    "    array = [17, 13, 11, 7, 5, 3, 2]\n",
    "    sortedArray = []\n",
    "    mergeSort(array)"
   ]
  },
  {
   "cell_type": "code",
   "execution_count": 77,
   "metadata": {
    "collapsed": false
   },
   "outputs": [],
   "source": [
    "testMergeSortSimple()"
   ]
  },
  {
   "cell_type": "code",
   "execution_count": 80,
   "metadata": {
    "collapsed": false
   },
   "outputs": [],
   "source": [
    "import random\n",
    "from time import time\n",
    "\n",
    "def testInsertionSort():\n",
    "    \n",
    "    n = 256\n",
    "    array = []\n",
    "    \n",
    "    while n < 50000:\n",
    "        for i in range(1,n):\n",
    "            array.append(random.randint(1,i))\n",
    "        now = time()\n",
    "        arrayI = array\n",
    "        insertionSort(arrayI)\n",
    "        done = time()\n",
    "        print \"Insertion Sort\"\n",
    "        print n, (done - now)*1000\n",
    "        \n",
    "        now = time()\n",
    "        arrayM = array\n",
    "        mergeSort(arrayM)\n",
    "        done = time()\n",
    "        print \"Merge Sort\"\n",
    "        print n, (done - now)*1000\n",
    "        \n",
    "        del array[:]\n",
    "        n *= 2"
   ]
  },
  {
   "cell_type": "code",
   "execution_count": 81,
   "metadata": {
    "collapsed": false
   },
   "outputs": [
    {
     "name": "stdout",
     "output_type": "stream",
     "text": [
      "Insertion Sort\n",
      "256 2.36487388611\n",
      "Merge Sort\n",
      "256 0.759840011597\n",
      "Insertion Sort\n",
      "512 5.11693954468\n",
      "Merge Sort\n",
      "512 1.51205062866\n",
      "Insertion Sort\n",
      "1024 23.3659744263\n",
      "Merge Sort\n",
      "1024 4.17900085449\n",
      "Insertion Sort\n",
      "2048 77.2747993469\n",
      "Merge Sort\n",
      "2048 8.51798057556\n",
      "Insertion Sort\n",
      "4096 301.658153534\n",
      "Merge Sort\n",
      "4096 17.1999931335\n",
      "Insertion Sort\n",
      "8192 1280.51900864\n",
      "Merge Sort\n",
      "8192 29.8600196838\n",
      "Insertion Sort\n",
      "16384 5067.96717644\n",
      "Merge Sort\n",
      "16384 65.9909248352\n",
      "Insertion Sort\n",
      "32768 20631.5510273\n",
      "Merge Sort\n",
      "32768 139.518022537\n"
     ]
    }
   ],
   "source": [
    "testInsertionSort()"
   ]
  },
  {
   "cell_type": "code",
   "execution_count": null,
   "metadata": {
    "collapsed": true
   },
   "outputs": [],
   "source": []
  }
 ],
 "metadata": {
  "kernelspec": {
   "display_name": "Python 2",
   "language": "python",
   "name": "python2"
  },
  "language_info": {
   "codemirror_mode": {
    "name": "ipython",
    "version": 2
   },
   "file_extension": ".py",
   "mimetype": "text/x-python",
   "name": "python",
   "nbconvert_exporter": "python",
   "pygments_lexer": "ipython2",
   "version": "2.7.10"
  }
 },
 "nbformat": 4,
 "nbformat_minor": 0
}
