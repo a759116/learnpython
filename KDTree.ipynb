{
 "cells": [
  {
   "cell_type": "code",
   "execution_count": 348,
   "metadata": {
    "collapsed": false
   },
   "outputs": [],
   "source": [
    "'''imports'''\n",
    "import sys"
   ]
  },
  {
   "cell_type": "code",
   "execution_count": 349,
   "metadata": {
    "collapsed": false
   },
   "outputs": [],
   "source": [
    "'''global constants'''\n",
    "\n",
    "# orientations\n",
    "VERTICAL = 1\n",
    "HORIZONTAL = 0\n",
    "\n",
    "#max and min integrs\n",
    "MAXINT = sys.maxint\n",
    "MININT = -(MAXINT+1)\n",
    "\n",
    "# X & Y coordinate indexes\n",
    "X_ = 0\n",
    "Y_ = 1"
   ]
  },
  {
   "cell_type": "code",
   "execution_count": 350,
   "metadata": {
    "collapsed": true
   },
   "outputs": [],
   "source": [
    "class Region:\n",
    "    '''initialize region'''\n",
    "    \n",
    "    def __init__(self, xmin, ymin, xmax, ymax):\n",
    "        self.xmin = xmin\n",
    "        self.ymin = ymin\n",
    "        self.xmax = xmax\n",
    "        self.ymax = ymax\n",
    "        return\n",
    "    \n",
    "    def copy(self):\n",
    "        \n",
    "        return Region(self.xmin, self.ymin, self.xmax, self.ymax)\n",
    "\n",
    "MAXREGION = Region(MININT, MININT, MAXINT, MAXINT)"
   ]
  },
  {
   "cell_type": "code",
   "execution_count": 351,
   "metadata": {
    "collapsed": false
   },
   "outputs": [],
   "source": [
    "class KDNode:\n",
    "    '''initialize KD Node'''\n",
    "    def __init__(self, pt, orientation, region=MAXREGION):\n",
    "        self.point = pt\n",
    "        self.orientation = orientation\n",
    "        self.above = None\n",
    "        self.below = None\n",
    "        self.region = region\n",
    "        return\n",
    "    \n",
    "    def add(self, pt):\n",
    "        if self.point == pt:\n",
    "            return\n",
    "        if self.isBelow(pt):\n",
    "            if self.below:\n",
    "                self.below.add(pt)\n",
    "            else:\n",
    "                self.below = self.createNode(pt, True)\n",
    "        else:\n",
    "            if self.above:\n",
    "                self.above.add(pt)\n",
    "            else:\n",
    "                self.above = self.createNode(pt, False)\n",
    "        \n",
    "        return\n",
    "    \n",
    "    def isBelow(self, pt):\n",
    "        if self.orientation:\n",
    "            return pt[X_] <= self.point[X_]\n",
    "        return pt[Y_] < self.point[Y_]\n",
    "    \n",
    "    def createNode(self,pt,below):\n",
    "        region = self.region.copy()\n",
    "        if self.orientation == VERTICAL:\n",
    "            if below:\n",
    "                region.xmax = self.point[X_]\n",
    "            else:\n",
    "                region.xmin = self.point[X_]\n",
    "        else:\n",
    "            if below:\n",
    "                region.ymax = self.point[Y_]\n",
    "            else:\n",
    "                region.ymin = self.point[Y_]\n",
    "        \n",
    "        return KDNode(pt, 1 - self.orientation, region)\n",
    "    \n",
    "    def traverse(self):\n",
    "            if self.below:\n",
    "                self.below.traverse()\n",
    "            print self.point\n",
    "            if self.above:\n",
    "                self.above.traverse()\n",
    "    "
   ]
  },
  {
   "cell_type": "code",
   "execution_count": 352,
   "metadata": {
    "collapsed": true
   },
   "outputs": [],
   "source": [
    "class KDTree:\n",
    "    '''initialize KD Tree'''\n",
    "    \n",
    "    def __init__(self):\n",
    "        self.root = None\n",
    "    \n",
    "    '''add a node to the tree'''\n",
    "    def add(self, pt):\n",
    "        if self.root:\n",
    "            self.root.add(pt)\n",
    "        else:\n",
    "            self.root = KDNode(pt, VERTICAL)\n",
    "            return\n",
    "    "
   ]
  },
  {
   "cell_type": "code",
   "execution_count": 353,
   "metadata": {
    "collapsed": false
   },
   "outputs": [
    {
     "name": "stdout",
     "output_type": "stream",
     "text": [
      "(2, 3)\n",
      "(5, 4)\n",
      "(4, 7)\n",
      "(7, 2)\n",
      "(8, 1)\n",
      "(9, 6)\n"
     ]
    }
   ],
   "source": [
    "'''Test KDTree'''\n",
    "kdTree = KDTree()\n",
    "kdTree.add((7,2))\n",
    "kdTree.add((5,4))\n",
    "kdTree.add((9,6))\n",
    "kdTree.add((2,3))\n",
    "kdTree.add((4,7))\n",
    "kdTree.add((8,1))\n",
    "kdTree.root.traverse()\n"
   ]
  },
  {
   "cell_type": "code",
   "execution_count": null,
   "metadata": {
    "collapsed": true
   },
   "outputs": [],
   "source": []
  },
  {
   "cell_type": "code",
   "execution_count": null,
   "metadata": {
    "collapsed": true
   },
   "outputs": [],
   "source": []
  }
 ],
 "metadata": {
  "kernelspec": {
   "display_name": "Python 2",
   "language": "python",
   "name": "python2"
  },
  "language_info": {
   "codemirror_mode": {
    "name": "ipython",
    "version": 2
   },
   "file_extension": ".py",
   "mimetype": "text/x-python",
   "name": "python",
   "nbconvert_exporter": "python",
   "pygments_lexer": "ipython2",
   "version": "2.7.10"
  }
 },
 "nbformat": 4,
 "nbformat_minor": 0
}
