{
 "cells": [
  {
   "cell_type": "markdown",
   "metadata": {},
   "source": [
    "# Learning Python"
   ]
  },
  {
   "cell_type": "code",
   "execution_count": 10,
   "metadata": {
    "collapsed": true
   },
   "outputs": [],
   "source": [
    "def double(x):\n",
    "    return x * 2"
   ]
  },
  {
   "cell_type": "code",
   "execution_count": 11,
   "metadata": {
    "collapsed": false
   },
   "outputs": [
    {
     "data": {
      "text/plain": [
       "10"
      ]
     },
     "execution_count": 11,
     "metadata": {},
     "output_type": "execute_result"
    }
   ],
   "source": [
    "double(5)"
   ]
  },
  {
   "cell_type": "code",
   "execution_count": 5,
   "metadata": {
    "collapsed": false
   },
   "outputs": [
    {
     "data": {
      "text/plain": [
       "'HiHi'"
      ]
     },
     "execution_count": 5,
     "metadata": {},
     "output_type": "execute_result"
    }
   ],
   "source": [
    "double(\"Hi\")"
   ]
  },
  {
   "cell_type": "code",
   "execution_count": 12,
   "metadata": {
    "collapsed": true
   },
   "outputs": [],
   "source": [
    "%magic"
   ]
  },
  {
   "cell_type": "code",
   "execution_count": 8,
   "metadata": {
    "collapsed": false
   },
   "outputs": [
    {
     "data": {
      "application/json": {
       "cell": {
        "!": "OSMagics",
        "HTML": "Other",
        "SVG": "Other",
        "bash": "Other",
        "capture": "ExecutionMagics",
        "debug": "ExecutionMagics",
        "file": "Other",
        "html": "DisplayMagics",
        "javascript": "DisplayMagics",
        "latex": "DisplayMagics",
        "perl": "Other",
        "prun": "ExecutionMagics",
        "pypy": "Other",
        "python": "Other",
        "python2": "Other",
        "python3": "Other",
        "ruby": "Other",
        "script": "ScriptMagics",
        "sh": "Other",
        "svg": "DisplayMagics",
        "sx": "OSMagics",
        "system": "OSMagics",
        "time": "ExecutionMagics",
        "timeit": "ExecutionMagics",
        "writefile": "OSMagics"
       },
       "line": {
        "alias": "OSMagics",
        "alias_magic": "BasicMagics",
        "autocall": "AutoMagics",
        "automagic": "AutoMagics",
        "autosave": "KernelMagics",
        "bookmark": "OSMagics",
        "cat": "Other",
        "cd": "OSMagics",
        "clear": "KernelMagics",
        "colors": "BasicMagics",
        "config": "ConfigMagics",
        "connect_info": "KernelMagics",
        "cp": "Other",
        "debug": "ExecutionMagics",
        "dhist": "OSMagics",
        "dirs": "OSMagics",
        "doctest_mode": "BasicMagics",
        "ed": "Other",
        "edit": "KernelMagics",
        "env": "OSMagics",
        "gui": "BasicMagics",
        "hist": "Other",
        "history": "HistoryMagics",
        "install_default_config": "DeprecatedMagics",
        "install_ext": "ExtensionMagics",
        "install_profiles": "DeprecatedMagics",
        "killbgscripts": "ScriptMagics",
        "ldir": "Other",
        "less": "KernelMagics",
        "lf": "Other",
        "lk": "Other",
        "ll": "Other",
        "load": "CodeMagics",
        "load_ext": "ExtensionMagics",
        "loadpy": "CodeMagics",
        "logoff": "LoggingMagics",
        "logon": "LoggingMagics",
        "logstart": "LoggingMagics",
        "logstate": "LoggingMagics",
        "logstop": "LoggingMagics",
        "ls": "Other",
        "lsmagic": "BasicMagics",
        "lx": "Other",
        "macro": "ExecutionMagics",
        "magic": "BasicMagics",
        "man": "KernelMagics",
        "matplotlib": "PylabMagics",
        "mkdir": "Other",
        "more": "KernelMagics",
        "mv": "Other",
        "notebook": "BasicMagics",
        "page": "BasicMagics",
        "pastebin": "CodeMagics",
        "pdb": "ExecutionMagics",
        "pdef": "NamespaceMagics",
        "pdoc": "NamespaceMagics",
        "pfile": "NamespaceMagics",
        "pinfo": "NamespaceMagics",
        "pinfo2": "NamespaceMagics",
        "popd": "OSMagics",
        "pprint": "BasicMagics",
        "precision": "BasicMagics",
        "profile": "BasicMagics",
        "prun": "ExecutionMagics",
        "psearch": "NamespaceMagics",
        "psource": "NamespaceMagics",
        "pushd": "OSMagics",
        "pwd": "OSMagics",
        "pycat": "OSMagics",
        "pylab": "PylabMagics",
        "qtconsole": "KernelMagics",
        "quickref": "BasicMagics",
        "recall": "HistoryMagics",
        "rehashx": "OSMagics",
        "reload_ext": "ExtensionMagics",
        "rep": "Other",
        "rerun": "HistoryMagics",
        "reset": "NamespaceMagics",
        "reset_selective": "NamespaceMagics",
        "rm": "Other",
        "rmdir": "Other",
        "run": "ExecutionMagics",
        "save": "CodeMagics",
        "sc": "OSMagics",
        "set_env": "OSMagics",
        "store": "StoreMagics",
        "sx": "OSMagics",
        "system": "OSMagics",
        "tb": "ExecutionMagics",
        "time": "ExecutionMagics",
        "timeit": "ExecutionMagics",
        "unalias": "OSMagics",
        "unload_ext": "ExtensionMagics",
        "who": "NamespaceMagics",
        "who_ls": "NamespaceMagics",
        "whos": "NamespaceMagics",
        "xdel": "NamespaceMagics",
        "xmode": "BasicMagics"
       }
      },
      "text/plain": [
       "Available line magics:\n",
       "%alias  %alias_magic  %autocall  %automagic  %autosave  %bookmark  %cat  %cd  %clear  %colors  %config  %connect_info  %cp  %debug  %dhist  %dirs  %doctest_mode  %ed  %edit  %env  %gui  %hist  %history  %install_default_config  %install_ext  %install_profiles  %killbgscripts  %ldir  %less  %lf  %lk  %ll  %load  %load_ext  %loadpy  %logoff  %logon  %logstart  %logstate  %logstop  %ls  %lsmagic  %lx  %macro  %magic  %man  %matplotlib  %mkdir  %more  %mv  %notebook  %page  %pastebin  %pdb  %pdef  %pdoc  %pfile  %pinfo  %pinfo2  %popd  %pprint  %precision  %profile  %prun  %psearch  %psource  %pushd  %pwd  %pycat  %pylab  %qtconsole  %quickref  %recall  %rehashx  %reload_ext  %rep  %rerun  %reset  %reset_selective  %rm  %rmdir  %run  %save  %sc  %set_env  %store  %sx  %system  %tb  %time  %timeit  %unalias  %unload_ext  %who  %who_ls  %whos  %xdel  %xmode\n",
       "\n",
       "Available cell magics:\n",
       "%%!  %%HTML  %%SVG  %%bash  %%capture  %%debug  %%file  %%html  %%javascript  %%latex  %%perl  %%prun  %%pypy  %%python  %%python2  %%python3  %%ruby  %%script  %%sh  %%svg  %%sx  %%system  %%time  %%timeit  %%writefile\n",
       "\n",
       "Automagic is ON, % prefix IS NOT needed for line magics."
      ]
     },
     "execution_count": 8,
     "metadata": {},
     "output_type": "execute_result"
    }
   ],
   "source": [
    "%lsmagic"
   ]
  },
  {
   "cell_type": "markdown",
   "metadata": {
    "collapsed": true
   },
   "source": [
    "Create a function, `password`, that automatically generates a password for us.\n",
    "\n",
    "The password must be subject to ALL of the following requirements:\n",
    " - It must be 8 characters long.\n",
    " \n",
    "\n",
    " - It must contain at least one uppercase character from\n",
    " \n",
    "        ABCDEFGHIJKLMNOPQRSTUVWXYZ\n",
    "        \n",
    " - It must contain at least one lowercase character from\n",
    " \n",
    "        abcdefghijklmnopqrstuvwxyz\n",
    "         \n",
    " - It must contain one punctuation mark from\n",
    " \n",
    "        !\"#$%&\\'()*+,-./:;<=>?@[\\\\]^_\\`{|}~\n",
    "        \n",
    " - It must contain one digit from\n",
    " \n",
    "        0123456789\n",
    "        \n",
    " - It must be random."
   ]
  },
  {
   "cell_type": "code",
   "execution_count": 2,
   "metadata": {
    "collapsed": false
   },
   "outputs": [],
   "source": [
    "import random\n",
    "def password():\n",
    "    text = []\n",
    "    upCaseChar = ['A','B','C','D','E','F','G','H','I','J','K','L','M','N','O','P','Q','R','S','T','U','V','W','X','Y','Z'] \n",
    "    lowCaseChar = ['a','b','c','d','e','f','g','h','i','j','k','l','m','n','o','p','q','r','s','t','u','v','w','x','y','z']\n",
    "    puncMark = [\"!\",\"\\\"\",\"#\",\"$\",\"%\",\"&\",\"\\\\\",\"(\",\")\",\"*\",\"+\",\",\",\"-\",\".\",\"/\",\":\",\";\",\"<\",\n",
    "                \"=\",\">\",\"?\",\"@\",\"[\",\"\\\\\",\"]\",\"^\",\"_\",\"\\`\",\"{\",\"|\",\"}\",\"~\"]\n",
    "    digits = [0,1,2,3,4,5,6,7,8,9]\n",
    "    \n",
    "    anyCharB = True\n",
    "    upCaseCharB = True\n",
    "    lowCaseCharB = True\n",
    "    puncMarkB = True\n",
    "    digitsB = True\n",
    "    \n",
    "    while True:\n",
    "        charList = []\n",
    "        if (anyCharB):\n",
    "            charList.append(random.choice(upCaseChar))\n",
    "            charList.append(random.choice(lowCaseChar))\n",
    "            charList.append(random.choice(puncMark))\n",
    "            charList.append(random.choice(digits))\n",
    "        elif (upCaseCharB):\n",
    "            charList.append(random.choice(upCaseChar))\n",
    "        elif (lowCaseCharB):\n",
    "            charList.append(random.choice(lowCaseChar))\n",
    "        elif (puncMarkB):\n",
    "            charList.append(random.choice(puncMark))\n",
    "        elif (digitsB):\n",
    "            charList.append(random.choice(digits))\n",
    "        c = random.choice(charList)\n",
    "        text.append(c)\n",
    "        if (c in upCaseChar):\n",
    "            upCaseCharB = False\n",
    "        if (c in lowCaseChar):\n",
    "            lowCaseCharB = False\n",
    "        if (c in puncMark):\n",
    "            puncMarkB = False\n",
    "        if (c in digits):\n",
    "            digitsB = False  \n",
    "        if (not upCaseCharB and not lowCaseCharB and not puncMarkB and not digitsB):\n",
    "            anyCharB = True\n",
    "        else:\n",
    "            anyCharB = False\n",
    "        if (len(text) > 7):\n",
    "            break\n",
    "    \n",
    "    return text"
   ]
  },
  {
   "cell_type": "code",
   "execution_count": 5,
   "metadata": {
    "collapsed": false,
    "scrolled": false
   },
   "outputs": [
    {
     "name": "stdout",
     "output_type": "stream",
     "text": [
      "8\n",
      "Ol\\3A)n%\n"
     ]
    }
   ],
   "source": [
    "\n",
    "print(len(password()))\n",
    "print(password())"
   ]
  },
  {
   "cell_type": "code",
   "execution_count": 4,
   "metadata": {
    "collapsed": true
   },
   "outputs": [],
   "source": [
    "from random import choice\n",
    "from string import ascii_uppercase, ascii_lowercase, digits, punctuation\n",
    "def password():\n",
    "    text = []\n",
    "    \n",
    "    anyCharB = True\n",
    "    upCaseCharB = True\n",
    "    lowCaseCharB = True\n",
    "    puncMarkB = True\n",
    "    digitsB = True\n",
    "    \n",
    "    all_chars = ascii_uppercase + ascii_lowercase + digits + punctuation\n",
    "    \n",
    "    while True:\n",
    "        charList = []\n",
    "        if (anyCharB):\n",
    "            charList.append(choice(all_chars))\n",
    "        elif (upCaseCharB):\n",
    "            charList.append(choice(ascii_uppercase))\n",
    "        elif (lowCaseCharB):\n",
    "            charList.append(choice(ascii_lowercase))\n",
    "        elif (puncMarkB):\n",
    "            charList.append(choice(punctuation))\n",
    "        elif (digitsB):\n",
    "            charList.append(choice(digits))\n",
    "        c = random.choice(charList)\n",
    "        text.append(c)\n",
    "        if (c in ascii_uppercase):\n",
    "            upCaseCharB = False\n",
    "        if (c in ascii_lowercase):\n",
    "            lowCaseCharB = False\n",
    "        if (c in punctuation):\n",
    "            puncMarkB = False\n",
    "        if (c in digits):\n",
    "            digitsB = False  \n",
    "        if (not upCaseCharB and not lowCaseCharB and not puncMarkB and not digitsB):\n",
    "            anyCharB = True\n",
    "        else:\n",
    "            anyCharB = False\n",
    "        if (len(text) > 7):\n",
    "            break\n",
    "    \n",
    "    password = ''.join(text)\n",
    "    return password"
   ]
  },
  {
   "cell_type": "code",
   "execution_count": 15,
   "metadata": {
    "collapsed": false
   },
   "outputs": [],
   "source": []
  },
  {
   "cell_type": "code",
   "execution_count": 19,
   "metadata": {
    "collapsed": true
   },
   "outputs": [],
   "source": [
    "from time import time\n",
    "\n",
    "def binarySearch(orderedList, target):\n",
    "    low = 0\n",
    "    high = len(orderedList) + 1\n",
    "    while (low <= high):\n",
    "        mid = (low + high) / 2\n",
    "        if (orderedList[mid] == target):\n",
    "            return mid\n",
    "        elif (target < orderedList[mid]):\n",
    "            high = mid - 1\n",
    "        else:\n",
    "            low = mid + 1\n",
    "        \n",
    "    return -1\n",
    "\n",
    "def performance():\n",
    "    print \"In Performance\"\n",
    "    n = 1024\n",
    "    while n < 50000000:\n",
    "        sorted = range(n)\n",
    "        now = time()\n",
    "        binarySearch(sorted, -1)\n",
    "        done = time()\n",
    "        print n, (done - now)*1000\n",
    "        n *= 2"
   ]
  },
  {
   "cell_type": "code",
   "execution_count": 20,
   "metadata": {
    "collapsed": false
   },
   "outputs": [
    {
     "name": "stdout",
     "output_type": "stream",
     "text": [
      "In Performance\n",
      "1024 0.00810623168945\n",
      "2048 0.00405311584473\n",
      "4096 0.00905990600586\n",
      "8192 0.00500679016113\n",
      "16384 0.00786781311035\n",
      "32768 0.00810623168945\n",
      "65536 0.014066696167\n",
      "131072 0.0128746032715\n",
      "262144 0.0109672546387\n",
      "524288 0.0131130218506\n",
      "1048576 0.0238418579102\n",
      "2097152 0.0190734863281\n",
      "4194304 0.0309944152832\n",
      "8388608 0.0171661376953\n",
      "16777216 0.0269412994385\n",
      "33554432 0.0209808349609\n"
     ]
    }
   ],
   "source": [
    "performance()"
   ]
  },
  {
   "cell_type": "markdown",
   "metadata": {},
   "source": [
    "Binary Search Tree\n",
    "    bts(tree, node){\n",
    "        if tree is empty\n",
    "            tree = node\n",
    "        else\n",
    "            while not found home {\n",
    "                if (value = current root)\n",
    "                    duplicate\n",
    "                else if node value < current root\n",
    "                    current root = left of current root\n",
    "                else\n",
    "                    current root = left of current root\n",
    "            }\n",
    "    }"
   ]
  },
  {
   "cell_type": "code",
   "execution_count": 18,
   "metadata": {
    "collapsed": true
   },
   "outputs": [],
   "source": [
    "class Node:\n",
    "    def __init__(self,value,leftNode=None,rightNode=None):\n",
    "        self.value = value\n",
    "        self.leftNode = leftNode\n",
    "        self.rightNode = rightNode"
   ]
  },
  {
   "cell_type": "code",
   "execution_count": 21,
   "metadata": {
    "collapsed": false
   },
   "outputs": [],
   "source": [
    "class BTree:\n",
    "    def __init__(self, root=None):\n",
    "        self.root = root\n",
    "        \n",
    "    def add(self, node):\n",
    "        if (node.value == None):\n",
    "            return self\n",
    "        \n",
    "        # if root = None, make this node root\n",
    "        if (self.root == None):\n",
    "            self.root = node\n",
    "            return self\n",
    "        \n",
    "        currentRoot = self.root\n",
    "        self.insert(currentRoot, node)\n",
    "    \n",
    "    def insert(self, currentRoot, node):\n",
    "        # if node is LE to root, add to the left side of the tree\n",
    "        if (node.value <= currentRoot.value):\n",
    "            currentRoot = currentRoot.leftNode\n",
    "            self.insert(currentRoot, node)\n",
    "        # if node is GT to root, add to the right side of the tree\n",
    "        else:\n",
    "            currentRoot = currentRoot.rightNode\n",
    "            self.insert(currentRoot, node)"
   ]
  },
  {
   "cell_type": "code",
   "execution_count": 20,
   "metadata": {
    "collapsed": false
   },
   "outputs": [
    {
     "name": "stdout",
     "output_type": "stream",
     "text": [
      "Null Tree\n",
      "None\n",
      "3\n"
     ]
    },
    {
     "ename": "AttributeError",
     "evalue": "'NoneType' object has no attribute 'value'",
     "output_type": "error",
     "traceback": [
      "\u001b[0;31m---------------------------------------------------------------------------\u001b[0m",
      "\u001b[0;31mAttributeError\u001b[0m                            Traceback (most recent call last)",
      "\u001b[0;32m<ipython-input-20-ccf73fca3911>\u001b[0m in \u001b[0;36m<module>\u001b[0;34m()\u001b[0m\n\u001b[1;32m      9\u001b[0m \u001b[0;34m\u001b[0m\u001b[0m\n\u001b[1;32m     10\u001b[0m \u001b[0;31m# use add method to add to a tree with root\u001b[0m\u001b[0;34m\u001b[0m\u001b[0;34m\u001b[0m\u001b[0m\n\u001b[0;32m---> 11\u001b[0;31m \u001b[0mmyTree\u001b[0m\u001b[0;34m.\u001b[0m\u001b[0madd\u001b[0m\u001b[0;34m(\u001b[0m\u001b[0mNode\u001b[0m\u001b[0;34m(\u001b[0m\u001b[0;36m7\u001b[0m\u001b[0;34m)\u001b[0m\u001b[0;34m)\u001b[0m\u001b[0;34m\u001b[0m\u001b[0m\n\u001b[0m\u001b[1;32m     12\u001b[0m \u001b[0;32mprint\u001b[0m \u001b[0mmyTree\u001b[0m\u001b[0;34m.\u001b[0m\u001b[0mroot\u001b[0m\u001b[0;34m.\u001b[0m\u001b[0mvalue\u001b[0m\u001b[0;34m\u001b[0m\u001b[0m\n",
      "\u001b[0;32m<ipython-input-19-025bc9d8181e>\u001b[0m in \u001b[0;36madd\u001b[0;34m(self, node)\u001b[0m\n\u001b[1;32m     13\u001b[0m \u001b[0;34m\u001b[0m\u001b[0m\n\u001b[1;32m     14\u001b[0m         \u001b[0mcurrentRoot\u001b[0m \u001b[0;34m=\u001b[0m \u001b[0mself\u001b[0m\u001b[0;34m.\u001b[0m\u001b[0mroot\u001b[0m\u001b[0;34m\u001b[0m\u001b[0m\n\u001b[0;32m---> 15\u001b[0;31m         \u001b[0mself\u001b[0m\u001b[0;34m.\u001b[0m\u001b[0minsert\u001b[0m\u001b[0;34m(\u001b[0m\u001b[0mcurrentRoot\u001b[0m\u001b[0;34m,\u001b[0m \u001b[0mnode\u001b[0m\u001b[0;34m)\u001b[0m\u001b[0;34m\u001b[0m\u001b[0m\n\u001b[0m\u001b[1;32m     16\u001b[0m \u001b[0;34m\u001b[0m\u001b[0m\n\u001b[1;32m     17\u001b[0m     \u001b[0;32mdef\u001b[0m \u001b[0minsert\u001b[0m\u001b[0;34m(\u001b[0m\u001b[0mself\u001b[0m\u001b[0;34m,\u001b[0m \u001b[0mcurrentRoot\u001b[0m\u001b[0;34m,\u001b[0m \u001b[0mnode\u001b[0m\u001b[0;34m)\u001b[0m\u001b[0;34m:\u001b[0m\u001b[0;34m\u001b[0m\u001b[0m\n",
      "\u001b[0;32m<ipython-input-19-025bc9d8181e>\u001b[0m in \u001b[0;36minsert\u001b[0;34m(self, currentRoot, node)\u001b[0m\n\u001b[1;32m     23\u001b[0m         \u001b[0;32melse\u001b[0m\u001b[0;34m:\u001b[0m\u001b[0;34m\u001b[0m\u001b[0m\n\u001b[1;32m     24\u001b[0m             \u001b[0mcurrentRoot\u001b[0m \u001b[0;34m=\u001b[0m \u001b[0mcurrentRoot\u001b[0m\u001b[0;34m.\u001b[0m\u001b[0mrightNode\u001b[0m\u001b[0;34m\u001b[0m\u001b[0m\n\u001b[0;32m---> 25\u001b[0;31m             \u001b[0mself\u001b[0m\u001b[0;34m.\u001b[0m\u001b[0minsert\u001b[0m\u001b[0;34m(\u001b[0m\u001b[0mcurrentRoot\u001b[0m\u001b[0;34m,\u001b[0m \u001b[0mnode\u001b[0m\u001b[0;34m)\u001b[0m\u001b[0;34m\u001b[0m\u001b[0m\n\u001b[0m",
      "\u001b[0;32m<ipython-input-19-025bc9d8181e>\u001b[0m in \u001b[0;36minsert\u001b[0;34m(self, currentRoot, node)\u001b[0m\n\u001b[1;32m     17\u001b[0m     \u001b[0;32mdef\u001b[0m \u001b[0minsert\u001b[0m\u001b[0;34m(\u001b[0m\u001b[0mself\u001b[0m\u001b[0;34m,\u001b[0m \u001b[0mcurrentRoot\u001b[0m\u001b[0;34m,\u001b[0m \u001b[0mnode\u001b[0m\u001b[0;34m)\u001b[0m\u001b[0;34m:\u001b[0m\u001b[0;34m\u001b[0m\u001b[0m\n\u001b[1;32m     18\u001b[0m         \u001b[0;31m# if node is LE to root, add to the left side of the tree\u001b[0m\u001b[0;34m\u001b[0m\u001b[0;34m\u001b[0m\u001b[0m\n\u001b[0;32m---> 19\u001b[0;31m         \u001b[0;32mif\u001b[0m \u001b[0;34m(\u001b[0m\u001b[0mnode\u001b[0m\u001b[0;34m.\u001b[0m\u001b[0mvalue\u001b[0m \u001b[0;34m<=\u001b[0m \u001b[0mcurrentRoot\u001b[0m\u001b[0;34m.\u001b[0m\u001b[0mvalue\u001b[0m\u001b[0;34m)\u001b[0m\u001b[0;34m:\u001b[0m\u001b[0;34m\u001b[0m\u001b[0m\n\u001b[0m\u001b[1;32m     20\u001b[0m             \u001b[0mcurrentRoot\u001b[0m \u001b[0;34m=\u001b[0m \u001b[0mcurrentRoot\u001b[0m\u001b[0;34m.\u001b[0m\u001b[0mleftNode\u001b[0m\u001b[0;34m\u001b[0m\u001b[0m\n\u001b[1;32m     21\u001b[0m             \u001b[0mself\u001b[0m\u001b[0;34m.\u001b[0m\u001b[0minsert\u001b[0m\u001b[0;34m(\u001b[0m\u001b[0mcurrentRoot\u001b[0m\u001b[0;34m,\u001b[0m \u001b[0mnode\u001b[0m\u001b[0;34m)\u001b[0m\u001b[0;34m\u001b[0m\u001b[0m\n",
      "\u001b[0;31mAttributeError\u001b[0m: 'NoneType' object has no attribute 'value'"
     ]
    }
   ],
   "source": [
    "#Test BTree\n",
    "myTree = BTree()\n",
    "print \"Null Tree\" \n",
    "print myTree.root\n",
    "\n",
    "# use add method to add to a null tree\n",
    "myTree.add(Node(3))\n",
    "print myTree.root.value\n",
    "\n",
    "# use add method to add to a tree with root\n",
    "myTree.add(Node(7))\n",
    "print myTree.root.value"
   ]
  },
  {
   "cell_type": "code",
   "execution_count": 2,
   "metadata": {
    "collapsed": false
   },
   "outputs": [
    {
     "name": "stdout",
     "output_type": "stream",
     "text": [
      "hello\n",
      "good bye\n"
     ]
    }
   ],
   "source": [
    "print \"hello\"\n",
    "def bye():\n",
    "    print \"good bye\"\n",
    "    \n",
    "bye()"
   ]
  },
  {
   "cell_type": "code",
   "execution_count": null,
   "metadata": {
    "collapsed": true
   },
   "outputs": [],
   "source": []
  }
 ],
 "metadata": {
  "kernelspec": {
   "display_name": "Python 2",
   "language": "python",
   "name": "python2"
  },
  "language_info": {
   "codemirror_mode": {
    "name": "ipython",
    "version": 2
   },
   "file_extension": ".py",
   "mimetype": "text/x-python",
   "name": "python",
   "nbconvert_exporter": "python",
   "pygments_lexer": "ipython2",
   "version": "2.7.10"
  }
 },
 "nbformat": 4,
 "nbformat_minor": 0
}
